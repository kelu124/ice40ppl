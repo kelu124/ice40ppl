{
 "cells": [
  {
   "cell_type": "code",
   "execution_count": 35,
   "metadata": {
    "collapsed": false
   },
   "outputs": [
    {
     "name": "stdout",
     "output_type": "stream",
     "text": [
      "@folknology tweeted: @bml_khubbard @RoganDawes I am thinking about machine vision also, however we are somewhat limited by the Ice40 range alone..\n",
      "@alexcellfree tweeted: RT @ebrombaugh: Just built up one of my STM32F303 + ice40 boards with a new Ultra Plus part and it's working great with an FPGA blinky bits…\n",
      "@alt_kia tweeted: RT @ebrombaugh: Just built up one of my STM32F303 + ice40 boards with a new Ultra Plus part and it's working great with an FPGA blinky bits…\n",
      "@zipcpu tweeted: @folknology @TinyFPGA I've been watching from a distance.  It looks fascinating, but ... I've never tried it.  The… https://t.co/ZkzeXVBYUK\n",
      "@osaboh tweeted: Latttice iCE40 UltraPlus の一番でかいやつ(5.3K LUT)のボードが送料無料で $8 。\n",
      "https://t.co/bmPKSmbuCy\n",
      "@Monsonite tweeted: @aallan You may have missed the #myStorm #BlackIce - an FPGA dev board with ICE40 &amp; STM32L433 - which runs #Arduino… https://t.co/BHyDlKZqbZ\n",
      "@Obijuan_cube tweeted: RT @ico_TC: You want to see how your ICE40 is configured physically? Use ICEfloorplan. https://t.co/dXV8PBDSsW\n",
      "@zuiko21 tweeted: RT @ico_TC: You want to see how your ICE40 is configured physically? Use ICEfloorplan. https://t.co/dXV8PBDSsW\n",
      "@folknology tweeted: RT @fpga_dave: Received my iCE40 MDP today, I can now confirm icestorm support for the 5k in the UWG30 package is working.\n",
      "@tomov_eu tweeted: RT @fpga_dave: Received my iCE40 MDP today, I can now confirm icestorm support for the 5k in the UWG30 package is working.\n",
      "@FeltonChris tweeted: @devbisme @hei5enbrg @aallan @cybergibbons @devbisme what tool did you use to create the dependency graph from the… https://t.co/b75QmkHSIV\n",
      "@oe1cxw tweeted: RT @fpga_dave: Received my iCE40 MDP today, I can now confirm icestorm support for the 5k in the UWG30 package is working.\n",
      "@HackLabAl tweeted: RT @ico_TC: You want to see how your ICE40 is configured physically? Use ICEfloorplan. https://t.co/dXV8PBDSsW\n",
      "@peterdroberts tweeted: RT @stefandz: Looking for volunteers to bounce VHDL ideas off. Am picking up 13 years after I left off for a project using @latticesemi #IC…\n",
      "@stefandz tweeted: Looking for volunteers to bounce VHDL ideas off. Am picking up 13 years after I left off for a project using… https://t.co/kFZrMP71b5\n",
      "@acruiz tweeted: RT @fpga_dave: Received my iCE40 MDP today, I can now confirm icestorm support for the 5k in the UWG30 package is working.\n",
      "@pepdiz tweeted: RT @esden: Finally! Ordered iCEBreaker ICE40 UltraPlus FPGA development board prototypes! Damn exciting! :D https://t.co/GCQ7YGHIKQ\n",
      "@Obijuan_cube tweeted: RT @fpga_dave: Received my iCE40 MDP today, I can now confirm icestorm support for the 5k in the UWG30 package is working.\n",
      "@Obijuan_cube tweeted: RT @esden: Yosys, arachne-pnr, IceStorm open-source FPGA flow synthesizing for ICE40 Ultra Plus!!! https://t.co/LRil0wvfhV\n",
      "@Obijuan_cube tweeted: RT @esden: Finally! Ordered iCEBreaker ICE40 UltraPlus FPGA development board prototypes! Damn exciting! :D https://t.co/GCQ7YGHIKQ\n",
      "@pdp7 tweeted: RT @ico_TC: @micko_mame @oe1cxw @esden @Voja_Antonic @szczys I always wanted to have an ICE40 FPGA badge, but who would do it? We don´t hav…\n",
      "@kibitech_pr tweeted: RT @esden: Finally! Ordered iCEBreaker ICE40 UltraPlus FPGA development board prototypes! Damn exciting! :D https://t.co/GCQ7YGHIKQ\n",
      "@ico_TC tweeted: RT @fpga_dave: Received my iCE40 MDP today, I can now confirm icestorm support for the 5k in the UWG30 package is working.\n",
      "@esden tweeted: Yosys, arachne-pnr, IceStorm open-source FPGA flow synthesizing for ICE40 Ultra Plus!!! https://t.co/LRil0wvfhV\n",
      "@matthewvenn tweeted: RT @esden: Finally! Ordered iCEBreaker ICE40 UltraPlus FPGA development board prototypes! Damn exciting! :D https://t.co/GCQ7YGHIKQ\n",
      "@esden tweeted: RT @fpga_dave: Received my iCE40 MDP today, I can now confirm icestorm support for the 5k in the UWG30 package is working.\n",
      "@tomov_eu tweeted: RT @esden: Finally! Ordered iCEBreaker ICE40 UltraPlus FPGA development board prototypes! Damn exciting! :D https://t.co/GCQ7YGHIKQ\n",
      "@fpga_dave tweeted: RT @esden: Finally! Ordered iCEBreaker ICE40 UltraPlus FPGA development board prototypes! Damn exciting! :D https://t.co/GCQ7YGHIKQ\n",
      "@fpga_dave tweeted: Received my iCE40 MDP today, I can now confirm icestorm support for the 5k in the UWG30 package is working.\n",
      "@ico_TC tweeted: RT @esden: Finally! Ordered iCEBreaker ICE40 UltraPlus FPGA development board prototypes! Damn exciting! :D https://t.co/GCQ7YGHIKQ\n",
      "@Guki_0 tweeted: RT @esden: Finally! Ordered iCEBreaker ICE40 UltraPlus FPGA development board prototypes! Damn exciting! :D https://t.co/GCQ7YGHIKQ\n",
      "@ico_TC tweeted: @micko_mame @oe1cxw @esden @Voja_Antonic @szczys I always wanted to have an ICE40 FPGA badge, but who would do it?… https://t.co/qtdiP1ha3z\n",
      "@oshpark tweeted: RT @esden: Finally! Ordered iCEBreaker ICE40 UltraPlus FPGA development board prototypes! Damn exciting! :D https://t.co/GCQ7YGHIKQ\n",
      "@pdp7 tweeted: RT @esden: Finally! Ordered iCEBreaker ICE40 UltraPlus FPGA development board prototypes! Damn exciting! :D https://t.co/GCQ7YGHIKQ\n",
      "@EngineerLabs tweeted: RT @esden: Finally! Ordered iCEBreaker ICE40 UltraPlus FPGA development board prototypes! Damn exciting! :D https://t.co/GCQ7YGHIKQ\n",
      "@folknology tweeted: RT @esden: Finally! Ordered iCEBreaker ICE40 UltraPlus FPGA development board prototypes! Damn exciting! :D https://t.co/GCQ7YGHIKQ\n",
      "@oe1cxw tweeted: RT @esden: Finally! Ordered iCEBreaker ICE40 UltraPlus FPGA development board prototypes! Damn exciting! :D https://t.co/GCQ7YGHIKQ\n",
      "@oe1cxw tweeted: RT @esden: I think the iCEBreaker ICE40 Ultra Plus dev board is ready for some prototype boards!\n",
      "* Silkscreen touchups\n",
      "* single PMOD +5V au…\n",
      "@esden tweeted: Finally! Ordered iCEBreaker ICE40 UltraPlus FPGA development board prototypes! Damn exciting! :D https://t.co/GCQ7YGHIKQ\n",
      "@esden tweeted: I think the iCEBreaker ICE40 Ultra Plus dev board is ready for some prototype boards!\n",
      "* Silkscreen touchups\n",
      "* singl… https://t.co/BuzKTBH88O\n",
      "@FeltonChris tweeted: RT @devbisme: @hei5enbrg @aallan @cybergibbons Everything I did with the CAT Board is logged here: https://t.co/ABwEN0FA4n\n",
      "\n",
      "I'm also portin…\n",
      "@hei5enbrg tweeted: RT @devbisme: @hei5enbrg @aallan @cybergibbons Everything I did with the CAT Board is logged here: https://t.co/ABwEN0FA4n\n",
      "\n",
      "I'm also portin…\n",
      "@devbisme tweeted: @hei5enbrg @aallan @cybergibbons Everything I did with the CAT Board is logged here: https://t.co/ABwEN0FA4n\n",
      "\n",
      "I'm a… https://t.co/0QFLwOT6TZ\n",
      "@gesden1 tweeted: RT @esden: iCEBreaker iCE40 UltraPlus FPGA dev board. Status update! First draft of a fully routed board! :D (added better FPGA VCC decoupl…\n",
      "@Jbabiop tweeted: RT @ebrombaugh: Just built up one of my STM32F303 + ice40 boards with a new Ultra Plus part and it's working great with an FPGA blinky bits…\n",
      "@ico_TC tweeted: @rexstjohn @TinyFPGA They already have an ICE40 FPGA module which is supported by the icestorm open source FPGA too… https://t.co/EM6ylmIU8k\n",
      "@whitequark tweeted: @kneecaw iCE40-HX8K or iCEstick\n",
      "@alt_kia tweeted: @whitequark @ebrombaugh @ico_TC @oshpark yaey; the open source toolchain apparently having support for ultraplus ic… https://t.co/HitfyMkdLM\n",
      "@darachennis tweeted: RT @ebrombaugh: Just built up one of my STM32F303 + ice40 boards with a new Ultra Plus part and it's working great with an FPGA blinky bits…\n",
      "@flyingcircuits tweeted: RT @ebrombaugh: Just built up one of my STM32F303 + ice40 boards with a new Ultra Plus part and it's working great with an FPGA blinky bits…\n",
      "@pdp7 tweeted: RT @ebrombaugh: Just built up one of my STM32F303 + ice40 boards with a new Ultra Plus part and it's working great with an FPGA blinky bits…\n",
      "@cyber_murmel tweeted: RT @ebrombaugh: Just built up one of my STM32F303 + ice40 boards with a new Ultra Plus part and it's working great with an FPGA blinky bits…\n",
      "@oshpark tweeted: RT @ebrombaugh: Just built up one of my STM32F303 + ice40 boards with a new Ultra Plus part and it's working great with an FPGA blinky bits…\n",
      "@RCAdesignbio tweeted: RT @ebrombaugh: Just built up one of my STM32F303 + ice40 boards with a new Ultra Plus part and it's working great with an FPGA blinky bits…\n",
      "@sanjaydubeydutt tweeted: RT @ebrombaugh: Just built up one of my STM32F303 + ice40 boards with a new Ultra Plus part and it's working great with an FPGA blinky bits…\n",
      "@gojimmypi tweeted: RT @ebrombaugh: Just built up one of my STM32F303 + ice40 boards with a new Ultra Plus part and it's working great with an FPGA blinky bits…\n",
      "@Makova_ tweeted: RT @ebrombaugh: Just built up one of my STM32F303 + ice40 boards with a new Ultra Plus part and it's working great with an FPGA blinky bits…\n",
      "@Mlcrocontroller tweeted: RT @ebrombaugh: Just built up one of my STM32F303 + ice40 boards with a new Ultra Plus part and it's working great with an FPGA blinky bits…\n",
      "@Obijuan_cube tweeted: RT @ebrombaugh: Just built up one of my STM32F303 + ice40 boards with a new Ultra Plus part and it's working great with an FPGA blinky bits…\n",
      "@ico_TC tweeted: RT @ebrombaugh: Just built up one of my STM32F303 + ice40 boards with a new Ultra Plus part and it's working great with an FPGA blinky bits…\n",
      "@Spartan_Coder tweeted: RT @ebrombaugh: Just built up one of my STM32F303 + ice40 boards with a new Ultra Plus part and it's working great with an FPGA blinky bits…\n",
      "@QwertyEmbedded tweeted: RT @ebrombaugh: Just built up one of my STM32F303 + ice40 boards with a new Ultra Plus part and it's working great with an FPGA blinky bits…\n",
      "@ebrombaugh tweeted: Just built up one of my STM32F303 + ice40 boards with a new Ultra Plus part and it's working great with an FPGA bli… https://t.co/V6aj7QSLXi\n",
      "@fpga_dave tweeted: @esden @alt_kia For now the icoboard is probably your best bet, with four PMOD connectors and four 50-pin flat flex… https://t.co/fuJSYx1N16\n",
      "@alt_kia tweeted: @esden are there boards with ice40 that i can interface a fast ADC with ?\n",
      "@oe1cxw tweeted: @fpga_dave @kc8apf @johndmcmaster Jfyi: iCE40 HLC is more high-level than what @kc8apf and @johndmcmaster  are working on for Xilinx.\n",
      "@fpga_dave tweeted: @kc8apf @johndmcmaster Roland Lutz did something vaguely similar to this for the ICE40, and called it HLC (high lev… https://t.co/Zp3XfAc7tT\n",
      "@sanjaydubeydutt tweeted: RT @esden: iCEBreaker iCE40 UltraPlus FPGA dev board. Status update! First draft of a fully routed board! :D (added better FPGA VCC decoupl…\n",
      "@Obijuan_cube tweeted: RT @esden: iCEBreaker iCE40 UltraPlus FPGA dev board. Status update! First draft of a fully routed board! :D (added better FPGA VCC decoupl…\n",
      "@oe1cxw tweeted: RT @esden: iCEBreaker iCE40 UltraPlus FPGA dev board. Status update! First draft of a fully routed board! :D (added better FPGA VCC decoupl…\n",
      "@fpga_dave tweeted: RT @esden: iCEBreaker iCE40 UltraPlus FPGA dev board. Status update! First draft of a fully routed board! :D (added better FPGA VCC decoupl…\n",
      "@mvigliar tweeted: @fpga_dave did you test on a real device? AFAIK the component switching limit of iCE40 is way below those 189MHz. L… https://t.co/a2zPK0UzkD\n",
      "@Eurofighter2016 tweeted: RT @esden: iCEBreaker iCE40 UltraPlus FPGA dev board. Status update! First draft of a fully routed board! :D (added better FPGA VCC decoupl…\n",
      "@esden tweeted: iCEBreaker iCE40 UltraPlus FPGA dev board. Status update! First draft of a fully routed board! :D (added better FPG… https://t.co/o8AZDYPr6c\n"
     ]
    }
   ],
   "source": [
    "from TwitterSearch import *\n",
    "from PyTS import *\n",
    "import numpy as np\n",
    "import codecs, json \n",
    "\n",
    "try:\n",
    "    tso = TwitterSearchOrder() # create a TwitterSearchOrder object\n",
    "    tso.set_keywords(['ice40']) # let's define all words we would like to have a look for\n",
    "    tso.set_include_entities(False) # and don't give us all those entity information\n",
    "    \n",
    "    tmp = []\n",
    "     # this is where the fun actually starts :)\n",
    "        \n",
    "    for tweet in ts.search_tweets_iterable(tso):\n",
    "        print( '@%s tweeted: %s' % ( tweet['user']['screen_name'], tweet['text'] ) )\n",
    "        tmp.append(tweet)\n",
    "        \n",
    "except TwitterSearchException as e: # take care of all those ugly errors if there are some\n",
    "    print(e)\n",
    "\n",
    "tstamp = time.time()\n",
    "A = ts.get_tweets()\n",
    "\n",
    "with open(str(tstamp)+\".json\", 'w') as outfile:\n",
    "    json.dump(A, outfile)"
   ]
  },
  {
   "cell_type": "code",
   "execution_count": 38,
   "metadata": {
    "collapsed": false
   },
   "outputs": [],
   "source": [
    "with open(str(tstamp)+\".json\", 'r') as f:\n",
    "     JSON = json.load(f)"
   ]
  },
  {
   "cell_type": "code",
   "execution_count": 42,
   "metadata": {
    "collapsed": false
   },
   "outputs": [
    {
     "data": {
      "text/plain": [
       "[u'contributors',\n",
       " u'truncated',\n",
       " u'text',\n",
       " u'is_quote_status',\n",
       " u'in_reply_to_status_id',\n",
       " u'id',\n",
       " u'favorite_count',\n",
       " u'retweeted',\n",
       " u'coordinates',\n",
       " u'source',\n",
       " u'in_reply_to_screen_name',\n",
       " u'id_str',\n",
       " u'retweet_count',\n",
       " u'in_reply_to_user_id',\n",
       " u'favorited',\n",
       " u'user',\n",
       " u'geo',\n",
       " u'in_reply_to_user_id_str',\n",
       " u'lang',\n",
       " u'created_at',\n",
       " u'in_reply_to_status_id_str',\n",
       " u'place',\n",
       " u'metadata']"
      ]
     },
     "execution_count": 42,
     "metadata": {},
     "output_type": "execute_result"
    }
   ],
   "source": [
    "JSON[\"statuses\"][0].keys()"
   ]
  },
  {
   "cell_type": "code",
   "execution_count": 43,
   "metadata": {
    "collapsed": false
   },
   "outputs": [
    {
     "data": {
      "text/plain": [
       "u'@bml_khubbard @RoganDawes I am thinking about machine vision also, however we are somewhat limited by the Ice40 range alone..'"
      ]
     },
     "execution_count": 43,
     "metadata": {},
     "output_type": "execute_result"
    }
   ],
   "source": [
    "JSON[\"statuses\"][0][\"text\"]"
   ]
  },
  {
   "cell_type": "code",
   "execution_count": null,
   "metadata": {
    "collapsed": true
   },
   "outputs": [],
   "source": []
  }
 ],
 "metadata": {
  "kernelspec": {
   "display_name": "Python 2",
   "language": "python",
   "name": "python2"
  },
  "language_info": {
   "codemirror_mode": {
    "name": "ipython",
    "version": 2
   },
   "file_extension": ".py",
   "mimetype": "text/x-python",
   "name": "python",
   "nbconvert_exporter": "python",
   "pygments_lexer": "ipython2",
   "version": "2.7.12"
  }
 },
 "nbformat": 4,
 "nbformat_minor": 2
}
